{
 "cells": [
  {
   "cell_type": "markdown",
   "metadata": {
    "id": "94b1AAuSaMdW"
   },
   "source": [
    "<img src='https://images.velog.io/images/717lumos/post/1e022be6-00cb-4a39-adba-09dadfdeddb8/logo2_compressed.svg' width=500/>"
   ]
  },
  {
   "cell_type": "markdown",
   "metadata": {
    "id": "ZNBZppDCNroN"
   },
   "source": [
    "# 07 matplotlib"
   ]
  },
  {
   "cell_type": "markdown",
   "metadata": {
    "id": "LS2rtJiJlaF0"
   },
   "source": [
    "## 1.환경준비"
   ]
  },
  {
   "cell_type": "markdown",
   "metadata": {
    "id": "0-EYLX7d-SZ7"
   },
   "source": [
    "* 라이브러리 로딩"
   ]
  },
  {
   "cell_type": "code",
   "execution_count": 2,
   "metadata": {
    "id": "ba319GIZlcFB"
   },
   "outputs": [],
   "source": [
    "import pandas as pd\n",
    "import matplotlib.pyplot as plt"
   ]
  },
  {
   "cell_type": "markdown",
   "metadata": {
    "id": "mQ7PACPk9S_G"
   },
   "source": [
    "* 데이터 로딩"
   ]
  },
  {
   "cell_type": "code",
   "execution_count": 3,
   "metadata": {
    "id": "ZkB2n7DJ-T_U"
   },
   "outputs": [
    {
     "data": {
      "text/html": [
       "<div>\n",
       "<style scoped>\n",
       "    .dataframe tbody tr th:only-of-type {\n",
       "        vertical-align: middle;\n",
       "    }\n",
       "\n",
       "    .dataframe tbody tr th {\n",
       "        vertical-align: top;\n",
       "    }\n",
       "\n",
       "    .dataframe thead th {\n",
       "        text-align: right;\n",
       "    }\n",
       "</style>\n",
       "<table border=\"1\" class=\"dataframe\">\n",
       "  <thead>\n",
       "    <tr style=\"text-align: right;\">\n",
       "      <th></th>\n",
       "      <th>date</th>\n",
       "      <th>item1</th>\n",
       "      <th>item2</th>\n",
       "      <th>item3</th>\n",
       "    </tr>\n",
       "  </thead>\n",
       "  <tbody>\n",
       "    <tr>\n",
       "      <th>0</th>\n",
       "      <td>2017-12-01</td>\n",
       "      <td>98</td>\n",
       "      <td>148.4</td>\n",
       "      <td>69</td>\n",
       "    </tr>\n",
       "    <tr>\n",
       "      <th>1</th>\n",
       "      <td>2017-12-02</td>\n",
       "      <td>113</td>\n",
       "      <td>171.2</td>\n",
       "      <td>70</td>\n",
       "    </tr>\n",
       "    <tr>\n",
       "      <th>2</th>\n",
       "      <td>2017-12-03</td>\n",
       "      <td>105</td>\n",
       "      <td>172.2</td>\n",
       "      <td>83</td>\n",
       "    </tr>\n",
       "    <tr>\n",
       "      <th>3</th>\n",
       "      <td>2017-12-04</td>\n",
       "      <td>74</td>\n",
       "      <td>120.8</td>\n",
       "      <td>45</td>\n",
       "    </tr>\n",
       "    <tr>\n",
       "      <th>4</th>\n",
       "      <td>2017-12-05</td>\n",
       "      <td>88</td>\n",
       "      <td>136.6</td>\n",
       "      <td>59</td>\n",
       "    </tr>\n",
       "    <tr>\n",
       "      <th>5</th>\n",
       "      <td>2017-12-06</td>\n",
       "      <td>73</td>\n",
       "      <td>130.2</td>\n",
       "      <td>55</td>\n",
       "    </tr>\n",
       "    <tr>\n",
       "      <th>6</th>\n",
       "      <td>2017-12-07</td>\n",
       "      <td>116</td>\n",
       "      <td>141.0</td>\n",
       "      <td>63</td>\n",
       "    </tr>\n",
       "    <tr>\n",
       "      <th>7</th>\n",
       "      <td>2017-12-08</td>\n",
       "      <td>107</td>\n",
       "      <td>154.6</td>\n",
       "      <td>73</td>\n",
       "    </tr>\n",
       "    <tr>\n",
       "      <th>8</th>\n",
       "      <td>2017-12-09</td>\n",
       "      <td>101</td>\n",
       "      <td>161.8</td>\n",
       "      <td>73</td>\n",
       "    </tr>\n",
       "    <tr>\n",
       "      <th>9</th>\n",
       "      <td>2017-12-10</td>\n",
       "      <td>123</td>\n",
       "      <td>168.6</td>\n",
       "      <td>81</td>\n",
       "    </tr>\n",
       "  </tbody>\n",
       "</table>\n",
       "</div>"
      ],
      "text/plain": [
       "        date  item1  item2  item3\n",
       "0 2017-12-01     98  148.4     69\n",
       "1 2017-12-02    113  171.2     70\n",
       "2 2017-12-03    105  172.2     83\n",
       "3 2017-12-04     74  120.8     45\n",
       "4 2017-12-05     88  136.6     59\n",
       "5 2017-12-06     73  130.2     55\n",
       "6 2017-12-07    116  141.0     63\n",
       "7 2017-12-08    107  154.6     73\n",
       "8 2017-12-09    101  161.8     73\n",
       "9 2017-12-10    123  168.6     81"
      ]
     },
     "execution_count": 3,
     "metadata": {},
     "output_type": "execute_result"
    }
   ],
   "source": [
    "path = 'https://raw.githubusercontent.com/DA4BAM/dataset/master/retail_demand2.csv'\n",
    "data = pd.read_csv(path, usecols = ['date','sales', 'comp_sales', 'tot_sales'])\n",
    "data = data.loc[data['date']>= '2017-12-01'].reset_index(drop = True)\n",
    "data['date'] = pd.to_datetime(data['date'])\n",
    "data['tot_sales'] = data['tot_sales'] / 5\n",
    "data.columns = ['date','item1', 'item2', 'item3']\n",
    "data.head(10)"
   ]
  },
  {
   "cell_type": "markdown",
   "metadata": {
    "id": "vTLZ6yfgFy49"
   },
   "source": [
    "## 2.기본차트 그리기"
   ]
  },
  {
   "cell_type": "markdown",
   "metadata": {
    "id": "KUFdkjNwmU_U"
   },
   "source": [
    "1) 차트 그리기\n",
    "\n",
    "* plt.plot(1차원 값)\n",
    "    * x축 : 인덱스\n",
    "    * y축 : 1차원 값\n",
    "    * 라인차트를 그려줍니다."
   ]
  },
  {
   "cell_type": "code",
   "execution_count": 4,
   "metadata": {
    "id": "xXWd2lNXNroR"
   },
   "outputs": [
    {
     "data": {
      "image/png": "[encoded data removed]",
      "text/plain": [
       "<Figure size 432x288 with 1 Axes>"
      ]
     },
     "metadata": {
      "needs_background": "light"
     },
     "output_type": "display_data"
    }
   ],
   "source": [
    "# 차트 그리기\n",
    "plt.plot([2,5,3,1,2])\n",
    "\n",
    "# 화면에 보여주기\n",
    "plt.show()"
   ]
  },
  {
   "cell_type": "markdown",
   "metadata": {
    "id": "KkzWuDIF_ejy"
   },
   "source": [
    "* 데이터프레임으로 부터 데이터를 가져다 그릴 수 있습니다."
   ]
  },
  {
   "cell_type": "code",
   "execution_count": 5,
   "metadata": {
    "id": "b53vww3P_IXm"
   },
   "outputs": [
    {
     "data": {
      "image/png": "[encoded data removed]",
      "text/plain": [
       "<Figure size 432x288 with 1 Axes>"
      ]
     },
     "metadata": {
      "needs_background": "light"
     },
     "output_type": "display_data"
    }
   ],
   "source": [
    "plt.plot(data['item1'])\n",
    "plt.show()"
   ]
  },
  {
   "cell_type": "code",
   "execution_count": 6,
   "metadata": {
    "id": "aMSEFG1S_kvc"
   },
   "outputs": [
    {
     "data": {
      "image/png": "[encoded data removed]",
      "text/plain": [
       "<Figure size 432x288 with 1 Axes>"
      ]
     },
     "metadata": {
      "needs_background": "light"
     },
     "output_type": "display_data"
    }
   ],
   "source": [
    "plt.plot('item1', data = data)\n",
    "plt.show()"
   ]
  },
  {
   "cell_type": "markdown",
   "metadata": {
    "id": "N3BRc7-dmcXb"
   },
   "source": [
    "2) x축과 y축의 값 지정하기  \n",
    "* plt.plot(x축, y축)"
   ]
  },
  {
   "cell_type": "markdown",
   "metadata": {
    "id": "uF-JsCbX_4Po"
   },
   "source": [
    "* 값을 하나 넣으면, x축은 인덱스로 채워집니다. \n",
    "* 값을 두개 넣으면, \n",
    "    * x축 : 첫번째 값\n",
    "    * y축 : 두번째 값"
   ]
  },
  {
   "cell_type": "code",
   "execution_count": null,
   "metadata": {
    "id": "m4jQaC-jALlt"
   },
   "outputs": [],
   "source": [
    "# 날짜 축으로 sales에 대해 라인차트를 그려봅시다.\n",
    "plt.plot('date', 'item1', data = data)\n",
    "plt.show()"
   ]
  },
  {
   "cell_type": "code",
   "execution_count": null,
   "metadata": {
    "id": "ToWsSp7_AZr8"
   },
   "outputs": [],
   "source": [
    "# 이렇게 넣어도 동일합니다.\n",
    "plt.plot(data['date'], data['item1'])\n",
    "plt.show()"
   ]
  },
  {
   "cell_type": "markdown",
   "metadata": {
    "id": "U4jsk5H4HNJQ"
   },
   "source": [
    "* [추가] x 축의 값을 회전시키기"
   ]
  },
  {
   "cell_type": "code",
   "execution_count": null,
   "metadata": {
    "id": "ok9pKXmSHUMT"
   },
   "outputs": [],
   "source": [
    "plt.plot(data['date'], data['item1'])\n",
    "plt.xticks(rotation=45)\n",
    "plt.show()"
   ]
  },
  {
   "cell_type": "markdown",
   "metadata": {
    "id": "xSWBmU_Yeu5A"
   },
   "source": [
    "<img src='https://raw.githubusercontent.com/jangrae/img/master/practice_01.png' width=120 align=\"left\"/>"
   ]
  },
  {
   "cell_type": "markdown",
   "metadata": {
    "id": "TobgZ4avIS_L"
   },
   "source": [
    "[문1]아래 값으로 차트를 그리시오.\n",
    "\n",
    "    x 값 1,2,3,4,5,6,7,8,9,10  \n",
    "    y 값 2,5,7,8,5,6,4,8,7,6\n"
   ]
  },
  {
   "cell_type": "code",
   "execution_count": 9,
   "metadata": {
    "id": "6QIdSOGjIS_M"
   },
   "outputs": [
    {
     "data": {
      "image/png": "[encoded data removed]",
      "text/plain": [
       "<Figure size 432x288 with 1 Axes>"
      ]
     },
     "metadata": {
      "needs_background": "light"
     },
     "output_type": "display_data"
    }
   ],
   "source": [
    "x = [1,2,3,4,5,6,7,8,9,10]\n",
    "y = [2,5,7,8,5,6,4,8,7,6]\n",
    "plt.plot(x,y)\n",
    "plt.show()"
   ]
  },
  {
   "cell_type": "markdown",
   "metadata": {
    "id": "1-TpEw58IIW8"
   },
   "source": [
    "[문2] data의 item3에 대해서 라인차트를 그리시오."
   ]
  },
  {
   "cell_type": "code",
   "execution_count": 11,
   "metadata": {
    "id": "dD-m0DGPIIKC"
   },
   "outputs": [
    {
     "data": {
      "image/png": "[encoded data removed]",
      "text/plain": [
       "<Figure size 432x288 with 1 Axes>"
      ]
     },
     "metadata": {
      "needs_background": "light"
     },
     "output_type": "display_data"
    }
   ],
   "source": [
    "plt.plot(data['date'],data['item3'] )\n",
    "plt.xticks(rotation=45)\n",
    "plt.show()"
   ]
  },
  {
   "cell_type": "markdown",
   "metadata": {
    "id": "0waRvlbgF60A"
   },
   "source": [
    "## 3.차트 꾸미기"
   ]
  },
  {
   "cell_type": "markdown",
   "metadata": {
    "id": "C98lJocCn-uy"
   },
   "source": [
    "1) x축, y축 이름, 타이틀 붙이기"
   ]
  },
  {
   "cell_type": "code",
   "execution_count": null,
   "metadata": {
    "id": "Bnn3k1kNNroV"
   },
   "outputs": [],
   "source": [
    "plt.plot('date', 'item1', data = data)\n",
    "\n",
    "plt.xlabel('day') \n",
    "plt.ylabel('sales')\n",
    "plt.title('Daily Sales')\n",
    "plt.show()"
   ]
  },
  {
   "cell_type": "markdown",
   "metadata": {
    "id": "LMyznJLmoI0C"
   },
   "source": [
    "2) 라인 스타일 조정하기"
   ]
  },
  {
   "cell_type": "markdown",
   "metadata": {
    "id": "Mxr7x-q4qXSS"
   },
   "source": [
    "The following format string characters are accepted to control the line style or marker:\n",
    "\n",
    "|\tcharacter\t|\tdescription\t|\n",
    "|\t----\t|\t----\t|\n",
    "|\t'-'\t|\tsolid line style\t|\n",
    "|\t'--'\t|\tdashed line style\t|\n",
    "|\t'-.'\t|\tdash-dot line style\t|\n",
    "|\t':'\t|\tdotted line style\t|\n",
    "|\t'.'\t|\tpoint marker\t|\n",
    "|\t','\t|\tpixel marker\t|\n",
    "|\t'o'\t|\tcircle marker\t|\n",
    "|\t'v'\t|\ttriangle_down marker\t|\n",
    "|\t'^'\t|\ttriangle_up marker\t|\n",
    "|\t'<'\t|\ttriangle_left marker\t|\n",
    "|\t'>'\t|\ttriangle_right marker\t|\n",
    "|\t'1'\t|\ttri_down marker\t|\n",
    "|\t'2'\t|\ttri_up marker\t|\n",
    "|\t'3'\t|\ttri_left marker\t|\n",
    "|\t'4'\t|\ttri_right marker\t|\n",
    "|\t's'\t|\tsquare marker\t|\n",
    "|\t'p'\t|\tpentagon marker\t|\n",
    "|\t'*'\t|\tstar marker\t|\n",
    "|\t'h'\t|\thexagon1 marker\t|\n",
    "|\t'H'\t|\thexagon2 marker\t|\n",
    "|\t'+'\t|\tplus marker\t|\n",
    "|\t'x'\t|\tx marker\t|\n",
    "|\t'D'\t|\tdiamond marker\t|\n",
    "|\t'd'\t|\tthin_diamond marker\t|\n",
    "|\t'|'\t|\tvline marker\t|\n",
    "|\t'_'\t|\thline marker\t|\n"
   ]
  },
  {
   "cell_type": "markdown",
   "metadata": {
    "id": "M5_lCMiOrLoZ"
   },
   "source": [
    "The following color abbreviations are supported:\n",
    "\n",
    "|\tcharacter\t|\tcolor\t|\n",
    "|\t----\t|\t----\t|\n",
    "|\t‘b’\t|\tblue\t|\n",
    "|\t‘g’\t|\tgreen\t|\n",
    "|\t‘r’\t|\tred\t|\n",
    "|\t‘c’\t|\tcyan\t|\n",
    "|\t‘m’\t|\tmagenta\t|\n",
    "|\t‘y’\t|\tyellow\t|\n",
    "|\t‘k’\t|\tblack\t|\n",
    "|\t‘w’\t|\twhite\t|\n"
   ]
  },
  {
   "cell_type": "code",
   "execution_count": null,
   "metadata": {
    "id": "mhNL2hSroJuE"
   },
   "outputs": [],
   "source": [
    "plt.plot('date', 'item1', 'go--', data = data)\n",
    "\n",
    "plt.xlabel('day') \n",
    "plt.ylabel('sales')\n",
    "plt.title('Daily Sales')\n",
    "plt.show()"
   ]
  },
  {
   "cell_type": "markdown",
   "metadata": {
    "id": "C31O3jSkoV7C"
   },
   "source": [
    "3) 여러 그래프 겹쳐서 그리기"
   ]
  },
  {
   "cell_type": "code",
   "execution_count": null,
   "metadata": {
    "id": "kd1TajmgoWtR"
   },
   "outputs": [],
   "source": [
    "plt.plot('date', 'item1', 'go--', data = data)\n",
    "plt.plot('date', 'item2', 'rs-', data = data)\n",
    "\n",
    "plt.xlabel('day') \n",
    "plt.ylabel('sales')\n",
    "plt.title('Daily Sales')\n",
    "plt.show()"
   ]
  },
  {
   "cell_type": "markdown",
   "metadata": {
    "id": "aP4e_tnRocl6"
   },
   "source": [
    "4) 범례, 그리드 추가"
   ]
  },
  {
   "cell_type": "code",
   "execution_count": null,
   "metadata": {
    "id": "7GTVwX3PoeZK"
   },
   "outputs": [],
   "source": [
    "plt.plot('date', 'item1', 'go--', data = data, label = 'apple')\n",
    "plt.plot('date', 'item2', 'rs-', data = data, label = 'mango')\n",
    "\n",
    "plt.xlabel('day') \n",
    "plt.ylabel('sales')\n",
    "plt.title('Daily Sales')\n",
    "\n",
    "plt.legend()\n",
    "plt.grid()\n",
    "plt.show()"
   ]
  },
  {
   "cell_type": "markdown",
   "metadata": {
    "id": "__nnkr0qovnu"
   },
   "source": [
    "<img src='https://raw.githubusercontent.com/jangrae/img/master/practice_01.png' width=120 align=\"left\"/>"
   ]
  },
  {
   "cell_type": "markdown",
   "metadata": {
    "id": "BlXaPxPbIhP9"
   },
   "source": [
    "아래 조건에 맞게 그래프를 그려 봅시다.\n",
    "\n",
    "* x축에 'date', y축에 'itemp1', 'itemp2', 'itemp3' 로 세개의 라인차트를 겹쳐서 그리시오.\n",
    "* x축 이름 : day\n",
    "* y축 이름 : amount\n",
    "* title : Daily Sales\n",
    "* legend : 'apple','mango','banana'\n",
    "* grid 추가"
   ]
  },
  {
   "cell_type": "code",
   "execution_count": null,
   "metadata": {
    "id": "6thH5cmpoipq"
   },
   "outputs": [],
   "source": []
  },
  {
   "cell_type": "markdown",
   "metadata": {
    "id": "vkp7gTCuV_QP"
   },
   "source": [
    "## 4.추가기능"
   ]
  },
  {
   "cell_type": "markdown",
   "metadata": {
    "id": "epz08DXFpIKB"
   },
   "source": [
    "### (1) 그래프 크기 조정\n",
    "\n",
    "    * default size는 6.4, 4.4"
   ]
  },
  {
   "cell_type": "code",
   "execution_count": null,
   "metadata": {
    "id": "QxhGp5t9pFoC"
   },
   "outputs": [],
   "source": [
    "plt.figure(figsize = (12,8))\n",
    "\n",
    "plt.plot('date', 'item1', 'go--', data = data, label = 'apple')\n",
    "plt.plot('date', 'item2', 'b*-', data = data, label = 'mango')\n",
    "plt.plot('date', 'item3', 'rs-', data = data, label = 'banana')\n",
    "\n",
    "plt.xlabel('day') \n",
    "plt.ylabel('sales')\n",
    "plt.title('Daily Sales')\n",
    "\n",
    "plt.legend()\n",
    "plt.grid()\n",
    "plt.show()"
   ]
  },
  {
   "cell_type": "markdown",
   "metadata": {
    "id": "regZGcHJpNvC"
   },
   "source": [
    "### (2) 수평선 수직선 추가"
   ]
  },
  {
   "cell_type": "code",
   "execution_count": null,
   "metadata": {
    "id": "UDj5jMGTpNmT"
   },
   "outputs": [],
   "source": [
    "plt.figure(figsize = (12,8))\n",
    "\n",
    "plt.plot('date', 'item1', 'go--', data = data, label = 'apple')\n",
    "plt.plot('date', 'item2', 'b*-', data = data, label = 'mango')\n",
    "plt.plot('date', 'item3', 'rs-', data = data, label = 'banana')\n",
    "\n",
    "# 각 아이템의 평균 선(수평선) 추가\n",
    "plt.axhline(data['item1'].mean(), color = 'grey')\n",
    "plt.axhline(data['item2'].mean(), color = 'grey')\n",
    "plt.axhline(data['item3'].mean(), color = 'grey')\n",
    "\n",
    "plt.xlabel('day') \n",
    "plt.ylabel('sales')\n",
    "plt.title('Daily Sales')\n",
    "\n",
    "plt.legend()\n",
    "plt.grid()\n",
    "plt.show()"
   ]
  },
  {
   "cell_type": "markdown",
   "metadata": {
    "id": "u4PLAMFCXTo_"
   },
   "source": [
    "### (3) 여러 그래프 나눠서 그리기"
   ]
  },
  {
   "cell_type": "markdown",
   "metadata": {
    "id": "L6kLdMQVrixx"
   },
   "source": [
    "![](https://codetorial.net/matplotlib/_images/subplot_03.png)\n",
    "\n",
    "* row : 고정된 행 수\n",
    "* column : 고정된 열 수\n",
    "* index : 순서"
   ]
  },
  {
   "cell_type": "markdown",
   "metadata": {
    "id": "I8I2aFxLpwuh"
   },
   "source": [
    "#### 1) 위, 아래로(3행 1열) 그래프 그리기."
   ]
  },
  {
   "cell_type": "code",
   "execution_count": null,
   "metadata": {
    "id": "wMhyj0pkXTpA",
    "scrolled": true
   },
   "outputs": [],
   "source": [
    "plt.figure(figsize = (12,8))\n",
    "\n",
    "plt.subplot(3,1,1)\n",
    "plt.plot('date', 'item1', 'go--', data = data, label = 'apple')\n",
    "plt.legend()\n",
    "\n",
    "plt.subplot(3,1,2)\n",
    "plt.plot('date', 'item2', 'b*-', data = data, label = 'mango')\n",
    "plt.legend()\n",
    "\n",
    "plt.subplot(3,1,3)\n",
    "plt.plot('date', 'item3', 'rs-', data = data, label = 'banana')\n",
    "plt.legend()\n",
    "\n",
    "plt.show()"
   ]
  },
  {
   "cell_type": "markdown",
   "metadata": {
    "id": "w44PwCIOp7n0"
   },
   "source": [
    "#### 2) 옆으로 (1행 3열) 그래프 그리기."
   ]
  },
  {
   "cell_type": "code",
   "execution_count": null,
   "metadata": {
    "id": "t2408sFip8FS"
   },
   "outputs": [],
   "source": [
    "plt.figure(figsize = (12,8))\n",
    "\n",
    "plt.subplot(1,3,1)\n",
    "plt.plot('date', 'item1', 'go--', data = data, label = 'apple')\n",
    "plt.legend()\n",
    "\n",
    "plt.subplot(1,3,2)\n",
    "plt.plot('date', 'item2', 'b*-', data = data, label = 'mango')\n",
    "plt.legend()\n",
    "\n",
    "plt.subplot(1,3,3)\n",
    "plt.plot('date', 'item3', 'rs-', data = data, label = 'banana')\n",
    "plt.legend()\n",
    "\n",
    "plt.show()"
   ]
  },
  {
   "cell_type": "markdown",
   "metadata": {
    "id": "3JjWiw9qvb6v"
   },
   "source": [
    "## 5.종합실습"
   ]
  },
  {
   "cell_type": "code",
   "execution_count": null,
   "metadata": {
    "id": "i_KEKYRrH7sk"
   },
   "outputs": [],
   "source": [
    "air = pd.read_csv('https://raw.githubusercontent.com/DA4BAM/dataset/master/air2.csv')\n",
    "air['Date'] = pd.to_datetime(air['Date'])\n",
    "air = air.loc[air['Date']>= '1973-09-01'].reset_index(drop = True)\n",
    "air.head()"
   ]
  },
  {
   "cell_type": "markdown",
   "metadata": {
    "id": "41ec7f80"
   },
   "source": [
    "① air의 Ozone에 대해서 라인차트를 그리시오.\n"
   ]
  },
  {
   "cell_type": "code",
   "execution_count": null,
   "metadata": {
    "id": "359dae12"
   },
   "outputs": [],
   "source": []
  },
  {
   "cell_type": "markdown",
   "metadata": {
    "id": "0f321e1b"
   },
   "source": [
    "② x축 : Date, y축 : Ozone"
   ]
  },
  {
   "cell_type": "code",
   "execution_count": null,
   "metadata": {
    "id": "3d743f70"
   },
   "outputs": [],
   "source": []
  },
  {
   "cell_type": "markdown",
   "metadata": {
    "id": "502694a9"
   },
   "source": [
    "③ 이어서, 축 이름과 타이틀, 그리드라인을 추가하시오.\n",
    "* x축 이름 : Date\n",
    "* y축 이름 : Ozone\n",
    "* title : Air Polution\n",
    "* figsize = (12,8)"
   ]
  },
  {
   "cell_type": "code",
   "execution_count": null,
   "metadata": {
    "id": "375cc7db"
   },
   "outputs": [],
   "source": []
  },
  {
   "cell_type": "markdown",
   "metadata": {
    "id": "3059c7ef"
   },
   "source": [
    "④ 여러 그래프로 나눠서 그리시오.(3행, 1열)\n",
    "* Ozone\n",
    "* Temp\n",
    "* Wind"
   ]
  },
  {
   "cell_type": "code",
   "execution_count": null,
   "metadata": {
    "id": "74011ab0",
    "scrolled": true
   },
   "outputs": [],
   "source": []
  },
  {
   "cell_type": "code",
   "execution_count": null,
   "metadata": {
    "id": "7xXZiQRDveDT"
   },
   "outputs": [],
   "source": []
  }
 ],
 "metadata": {
  "colab": {
   "collapsed_sections": [],
   "name": "07 - matplotlib.ipynb",
   "provenance": [],
   "toc_visible": true
  },
  "kernelspec": {
   "display_name": "Python 3",
   "language": "python",
   "name": "python3"
  },
  "language_info": {
   "codemirror_mode": {
    "name": "ipython",
    "version": 3
   },
   "file_extension": ".py",
   "mimetype": "text/x-python",
   "name": "python",
   "nbconvert_exporter": "python",
   "pygments_lexer": "ipython3",
   "version": "3.8.8"
  }
 },
 "nbformat": 4,
 "nbformat_minor": 4
}
