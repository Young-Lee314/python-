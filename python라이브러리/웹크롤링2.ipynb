{
 "cells": [
  {
   "cell_type": "markdown",
   "id": "f1705832",
   "metadata": {},
   "source": [
    "### API\n",
    "- application programing interface\n",
    "- api를 사용해서 데이터를 수집하는것은 서비스에 데이터를 제공하는 공식적인 방법으로 데이터 수집\n",
    "- naver api : papago api : 번역 서비스"
   ]
  },
  {
   "cell_type": "code",
   "execution_count": 43,
   "id": "3c291662",
   "metadata": {},
   "outputs": [],
   "source": [
    "import pandas as pd\n",
    "import requests, json"
   ]
  },
  {
   "cell_type": "code",
   "execution_count": 44,
   "id": "871db848",
   "metadata": {},
   "outputs": [],
   "source": [
    "#1. APP 등록 > app_key(request_token)\n",
    "#https://developers.naver.com"
   ]
  },
  {
   "cell_type": "code",
   "execution_count": 45,
   "id": "9b6437e8",
   "metadata": {},
   "outputs": [],
   "source": [
    "CLIENT_ID, CLIENT_SECRET = \"vmte6KCFa7JsiFlB1jRj\", \"lbEJFB0Erp\""
   ]
  },
  {
   "cell_type": "code",
   "execution_count": 46,
   "id": "089bd023",
   "metadata": {},
   "outputs": [],
   "source": [
    "#2. Naver API Document 확인 >URL"
   ]
  },
  {
   "cell_type": "code",
   "execution_count": 47,
   "id": "17a71799",
   "metadata": {},
   "outputs": [],
   "source": [
    "txt=\"파이썬은 재밌습니다.\"\n",
    "url = \"https://openapi.naver.com/v1/papago/n2mt\"\n",
    "params = {\"source\":\"ko\",\"target\":\"en\",\"text\":txt}\n",
    "headers = {\n",
    "    \"Content-Type\" : \"application/json\",\n",
    "    \"X-Naver-Client-Id\" : CLIENT_ID,\n",
    "    \"X-Naver-Client-Secret\": CLIENT_SECRET,\n",
    "}"
   ]
  },
  {
   "cell_type": "code",
   "execution_count": 48,
   "id": "ae5e1afa",
   "metadata": {},
   "outputs": [],
   "source": [
    "#3. request(url, app_key) >reponse(json) : JSON(str)"
   ]
  },
  {
   "cell_type": "code",
   "execution_count": 49,
   "id": "2dd0b922",
   "metadata": {},
   "outputs": [],
   "source": [
    "#json.dumps()\n",
    "#인터넷 트래픽에서는 영문, 숫자, 특수문자만 사용가능\n",
    "#한글과 같은 문자를 인코딩(영문,숫자,특수문자)"
   ]
  },
  {
   "cell_type": "code",
   "execution_count": 50,
   "id": "725b8483",
   "metadata": {},
   "outputs": [
    {
     "data": {
      "text/plain": [
       "<Response [200]>"
      ]
     },
     "execution_count": 50,
     "metadata": {},
     "output_type": "execute_result"
    }
   ],
   "source": [
    "response = requests.post(url,json.dumps(params),headers=headers)\n",
    "response"
   ]
  },
  {
   "cell_type": "code",
   "execution_count": 51,
   "id": "b7048713",
   "metadata": {},
   "outputs": [
    {
     "data": {
      "text/plain": [
       "'{\"message\":{\"result\":{\"srcLangType\":\"ko\",\"tarLangType\":\"en\",\"translatedText\":\"Python is fun.\",\"engineType\":\"N2MT\",\"pivot\":null,\"dict\":null,\"tarDict\":null},\"@type\":\"response\",\"@service\":\"naverservice.nmt.proxy\",\"@version\":\"1.0.0\"}}'"
      ]
     },
     "execution_count": 51,
     "metadata": {},
     "output_type": "execute_result"
    }
   ],
   "source": [
    "response.text"
   ]
  },
  {
   "cell_type": "code",
   "execution_count": 52,
   "id": "f430b10c",
   "metadata": {},
   "outputs": [],
   "source": [
    "#4. JSON(str) > list, dict > DataFrame"
   ]
  },
  {
   "cell_type": "code",
   "execution_count": 54,
   "id": "0d5fce1a",
   "metadata": {},
   "outputs": [
    {
     "data": {
      "text/plain": [
       "'Python is fun.'"
      ]
     },
     "execution_count": 54,
     "metadata": {},
     "output_type": "execute_result"
    }
   ],
   "source": [
    "txt_en=response.json()[\"message\"][\"result\"][\"translatedText\"]\n",
    "txt_en"
   ]
  },
  {
   "cell_type": "code",
   "execution_count": 55,
   "id": "789cd134",
   "metadata": {},
   "outputs": [],
   "source": [
    "#5. 함수로 작성"
   ]
  },
  {
   "cell_type": "code",
   "execution_count": 56,
   "id": "7836f95e",
   "metadata": {},
   "outputs": [],
   "source": [
    "def translate(txt):\n",
    "    CLIENT_ID, CLIENT_SECRET = \"vmte6KCFa7JsiFlB1jRj\", \"lbEJFB0Erp\"\n",
    "    url = \"https://openapi.naver.com/v1/papago/n2mt\"\n",
    "    params = {\"source\":\"ko\",\"target\":\"en\",\"text\":txt}\n",
    "    headers = {\n",
    "        \"Content-Type\" : \"application/json\",\n",
    "        \"X-Naver-Client-Id\" : CLIENT_ID,\n",
    "        \"X-Naver-Client-Secret\": CLIENT_SECRET,\n",
    "    }\n",
    "    response = requests.post(url,json.dumps(params),headers=headers)\n",
    "    return response.json()[\"message\"][\"result\"][\"translatedText\"]"
   ]
  },
  {
   "cell_type": "code",
   "execution_count": 57,
   "id": "00251067",
   "metadata": {},
   "outputs": [
    {
     "data": {
      "text/plain": [
       "'Web crawling is fun.'"
      ]
     },
     "execution_count": 57,
     "metadata": {},
     "output_type": "execute_result"
    }
   ],
   "source": [
    "txt = \"웹크롤링은 재미있습니다.\"\n",
    "txt_en = translate(txt)\n",
    "txt_en"
   ]
  },
  {
   "cell_type": "code",
   "execution_count": 58,
   "id": "75c5781b",
   "metadata": {},
   "outputs": [],
   "source": [
    "#6. 한글 excel 파일을 영문excel 파일로 변경"
   ]
  },
  {
   "cell_type": "code",
   "execution_count": 59,
   "id": "cee3f879",
   "metadata": {},
   "outputs": [
    {
     "data": {
      "text/html": [
       "<div>\n",
       "<style scoped>\n",
       "    .dataframe tbody tr th:only-of-type {\n",
       "        vertical-align: middle;\n",
       "    }\n",
       "\n",
       "    .dataframe tbody tr th {\n",
       "        vertical-align: top;\n",
       "    }\n",
       "\n",
       "    .dataframe thead th {\n",
       "        text-align: right;\n",
       "    }\n",
       "</style>\n",
       "<table border=\"1\" class=\"dataframe\">\n",
       "  <thead>\n",
       "    <tr style=\"text-align: right;\">\n",
       "      <th></th>\n",
       "      <th>category</th>\n",
       "      <th>title</th>\n",
       "    </tr>\n",
       "  </thead>\n",
       "  <tbody>\n",
       "    <tr>\n",
       "      <th>4</th>\n",
       "      <td>104</td>\n",
       "      <td>\"코로나 확진자 '0명'인 날은 절대 오지 않는다\" 美전문가</td>\n",
       "    </tr>\n",
       "    <tr>\n",
       "      <th>5</th>\n",
       "      <td>104</td>\n",
       "      <td>올림픽 다가오는데 도쿄 코로나 확산 빨라져...일주일새 25％↑</td>\n",
       "    </tr>\n",
       "  </tbody>\n",
       "</table>\n",
       "</div>"
      ],
      "text/plain": [
       "   category                                title\n",
       "4       104    \"코로나 확진자 '0명'인 날은 절대 오지 않는다\" 美전문가\n",
       "5       104  올림픽 다가오는데 도쿄 코로나 확산 빨라져...일주일새 25％↑"
      ]
     },
     "execution_count": 59,
     "metadata": {},
     "output_type": "execute_result"
    }
   ],
   "source": [
    "covid = pd.read_excel(\"covid.xlsx\")[[\"category\",\"title\"]]\n",
    "covid.tail(2)"
   ]
  },
  {
   "cell_type": "code",
   "execution_count": 60,
   "id": "c5f9f514",
   "metadata": {},
   "outputs": [],
   "source": [
    "covid_en = covid[\"title\"].apply(translate)"
   ]
  },
  {
   "cell_type": "code",
   "execution_count": 62,
   "id": "81447a77",
   "metadata": {},
   "outputs": [
    {
     "data": {
      "text/html": [
       "<div>\n",
       "<style scoped>\n",
       "    .dataframe tbody tr th:only-of-type {\n",
       "        vertical-align: middle;\n",
       "    }\n",
       "\n",
       "    .dataframe tbody tr th {\n",
       "        vertical-align: top;\n",
       "    }\n",
       "\n",
       "    .dataframe thead th {\n",
       "        text-align: right;\n",
       "    }\n",
       "</style>\n",
       "<table border=\"1\" class=\"dataframe\">\n",
       "  <thead>\n",
       "    <tr style=\"text-align: right;\">\n",
       "      <th></th>\n",
       "      <th>category</th>\n",
       "      <th>title</th>\n",
       "      <th>title_en</th>\n",
       "    </tr>\n",
       "  </thead>\n",
       "  <tbody>\n",
       "    <tr>\n",
       "      <th>0</th>\n",
       "      <td>101</td>\n",
       "      <td>SK바이오사이언스, 코로나19 백신 임상 3상 시험계획 제출</td>\n",
       "      <td>SK Bioscience Submits Phase III Clinical Trial...</td>\n",
       "    </tr>\n",
       "    <tr>\n",
       "      <th>1</th>\n",
       "      <td>102</td>\n",
       "      <td>고양시 노래연습장 코로나19 누적확진 41명</td>\n",
       "      <td>41 cumulative COVID-19 confirmed patients at G...</td>\n",
       "    </tr>\n",
       "    <tr>\n",
       "      <th>2</th>\n",
       "      <td>103</td>\n",
       "      <td>코로나19 신규 감염, 28일 오후 9시까지 542명</td>\n",
       "      <td>New COVID-19 infections, 542 people by 9 p.m. ...</td>\n",
       "    </tr>\n",
       "    <tr>\n",
       "      <th>3</th>\n",
       "      <td>103</td>\n",
       "      <td>프로야구 수도권 구단서 코로나19 확진자 발생</td>\n",
       "      <td>Covid-19 confirmed cases in professional baseb...</td>\n",
       "    </tr>\n",
       "    <tr>\n",
       "      <th>4</th>\n",
       "      <td>104</td>\n",
       "      <td>\"코로나 확진자 '0명'인 날은 절대 오지 않는다\" 美전문가</td>\n",
       "      <td>\"The day when there are zero confirmed cases o...</td>\n",
       "    </tr>\n",
       "    <tr>\n",
       "      <th>5</th>\n",
       "      <td>104</td>\n",
       "      <td>올림픽 다가오는데 도쿄 코로나 확산 빨라져...일주일새 25％↑</td>\n",
       "      <td>As the Olympics are approaching, the spread of...</td>\n",
       "    </tr>\n",
       "  </tbody>\n",
       "</table>\n",
       "</div>"
      ],
      "text/plain": [
       "   category                                title  \\\n",
       "0       101    SK바이오사이언스, 코로나19 백신 임상 3상 시험계획 제출   \n",
       "1       102             고양시 노래연습장 코로나19 누적확진 41명   \n",
       "2       103        코로나19 신규 감염, 28일 오후 9시까지 542명   \n",
       "3       103            프로야구 수도권 구단서 코로나19 확진자 발생   \n",
       "4       104    \"코로나 확진자 '0명'인 날은 절대 오지 않는다\" 美전문가   \n",
       "5       104  올림픽 다가오는데 도쿄 코로나 확산 빨라져...일주일새 25％↑   \n",
       "\n",
       "                                            title_en  \n",
       "0  SK Bioscience Submits Phase III Clinical Trial...  \n",
       "1  41 cumulative COVID-19 confirmed patients at G...  \n",
       "2  New COVID-19 infections, 542 people by 9 p.m. ...  \n",
       "3  Covid-19 confirmed cases in professional baseb...  \n",
       "4  \"The day when there are zero confirmed cases o...  \n",
       "5  As the Olympics are approaching, the spread of...  "
      ]
     },
     "execution_count": 62,
     "metadata": {},
     "output_type": "execute_result"
    }
   ],
   "source": [
    "covid[\"title_en\"] = covid_en\n",
    "covid"
   ]
  },
  {
   "cell_type": "code",
   "execution_count": 64,
   "id": "9f6664e2",
   "metadata": {},
   "outputs": [],
   "source": [
    "# utf-8-sig : excel 에서 사용하는 인코딩 방식과 호환이 되는 utf-8 인코딩 방식\n",
    "covid.to_excel(\"covid_en.xlsx\", index=False, encoding=\"utf-8-sig\")"
   ]
  },
  {
   "cell_type": "code",
   "execution_count": 65,
   "id": "482f2369",
   "metadata": {},
   "outputs": [],
   "source": [
    "#함수 : Scope\n",
    "#변수를 선언할때 함수 밖에서 선언하는것과함수 안에서 선언하는 변수의 메ㄹ모리 저장공간이 다릅니다\n",
    "#전역영역 : 함수 밖의 영역\n",
    "#지역영역 : 함수 안의 영역\n",
    "#global : 지역영역에서 전역영역에 있는 변수를 가져올때 사용하는 명령어"
   ]
  },
  {
   "cell_type": "code",
   "execution_count": null,
   "id": "a18f6534",
   "metadata": {},
   "outputs": [],
   "source": [
    "# 실습 과제\n",
    "# https://finance.daum.net/exchanges\n",
    "# headers : referer, user-agent 설정"
   ]
  },
  {
   "cell_type": "code",
   "execution_count": null,
   "id": "f71580b7",
   "metadata": {},
   "outputs": [],
   "source": [
    "url = 'https://finance.daum.net/api/exchanges/FRX.KRWUSD/days?perPage=10&page=5&pagination=true'\n",
    "headers={\n",
    "    \"user-agent\" : \n",
    "    \"referer\" : \"https://finance.daum.net/exchanges\"\n",
    "}\n",
    "response = requests.get(url,headers=headers)\n",
    "response"
   ]
  },
  {
   "cell_type": "code",
   "execution_count": null,
   "id": "7900c5cc",
   "metadata": {},
   "outputs": [],
   "source": []
  },
  {
   "cell_type": "code",
   "execution_count": null,
   "id": "a2760e66",
   "metadata": {},
   "outputs": [],
   "source": []
  },
  {
   "cell_type": "code",
   "execution_count": null,
   "id": "4abe85c2",
   "metadata": {},
   "outputs": [],
   "source": []
  },
  {
   "cell_type": "code",
   "execution_count": null,
   "id": "044d9a07",
   "metadata": {},
   "outputs": [],
   "source": []
  },
  {
   "cell_type": "code",
   "execution_count": null,
   "id": "47f28478",
   "metadata": {},
   "outputs": [],
   "source": []
  },
  {
   "cell_type": "code",
   "execution_count": null,
   "id": "f12c18ab",
   "metadata": {},
   "outputs": [],
   "source": []
  },
  {
   "cell_type": "code",
   "execution_count": null,
   "id": "7e792fd6",
   "metadata": {},
   "outputs": [],
   "source": []
  },
  {
   "cell_type": "code",
   "execution_count": null,
   "id": "ce7eb04b",
   "metadata": {},
   "outputs": [],
   "source": []
  }
 ],
 "metadata": {
  "kernelspec": {
   "display_name": "Python 3",
   "language": "python",
   "name": "python3"
  },
  "language_info": {
   "codemirror_mode": {
    "name": "ipython",
    "version": 3
   },
   "file_extension": ".py",
   "mimetype": "text/x-python",
   "name": "python",
   "nbconvert_exporter": "python",
   "pygments_lexer": "ipython3",
   "version": "3.8.8"
  }
 },
 "nbformat": 4,
 "nbformat_minor": 5
}
