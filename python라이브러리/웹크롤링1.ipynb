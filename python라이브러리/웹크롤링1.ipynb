{
 "cells": [
  {
   "cell_type": "markdown",
   "id": "72767723",
   "metadata": {},
   "source": [
    "### WebCrawling\n",
    "\n",
    "- 웹페이지의 종류\n",
    "    - 정적페이지 : 페이지의 데이터가 변경될때 URL이 변경 O\n",
    "    - 동적페이지 : 페이지의 데이터가 변경될때 URL이 변경 x\n",
    "-requests package\n",
    "    - 브라우저의 URL을 입력하면 서버에서 데이터를 다운받아 화면에 출력:URL->DATA\n",
    "    - requests 패키지 : URL ->DATA\n",
    "    \n",
    "### requests 이용\n",
    "- 받아오는 문자열에 따라 두가지 방법으로 구분\n",
    "    - json 문자열로 받아서 파싱하는 방법 : 주로 동적 페이지 크롤링할때 사용 \n",
    "    - html 문자열로 받아서 파싱하는 방법 : 주로 정적 페이지 크롤링할때 사용"
   ]
  },
  {
   "cell_type": "markdown",
   "id": "6a3f309a",
   "metadata": {},
   "source": [
    "### Naver Stock Data\n",
    "   - Kaspi 지수\n",
    "   - Kosdaq 지수\n",
    "   - USD : 원달러 환율"
   ]
  },
  {
   "cell_type": "code",
   "execution_count": 2,
   "id": "2085191c",
   "metadata": {},
   "outputs": [],
   "source": [
    "import requests\n",
    "import pandas as pd"
   ]
  },
  {
   "cell_type": "code",
   "execution_count": 3,
   "id": "68067f56",
   "metadata": {},
   "outputs": [],
   "source": [
    "# 1. 웹서비스를 분석 : 크롬 개발자도구 :URL"
   ]
  },
  {
   "cell_type": "code",
   "execution_count": 4,
   "id": "7a67c1f3",
   "metadata": {},
   "outputs": [],
   "source": [
    "url = \"https://m.stock.naver.com/api/index/KOSPI/price?pageSize=10&page=3\""
   ]
  },
  {
   "cell_type": "code",
   "execution_count": null,
   "id": "0fe91203",
   "metadata": {},
   "outputs": [],
   "source": [
    "#2. request > response :JSON(str)"
   ]
  },
  {
   "cell_type": "code",
   "execution_count": 5,
   "id": "82513877",
   "metadata": {
    "scrolled": true
   },
   "outputs": [
    {
     "data": {
      "text/plain": [
       "<Response [200]>"
      ]
     },
     "execution_count": 5,
     "metadata": {},
     "output_type": "execute_result"
    }
   ],
   "source": [
    "response = requests.get(url)\n",
    "response"
   ]
  },
  {
   "cell_type": "code",
   "execution_count": 7,
   "id": "aae736c6",
   "metadata": {},
   "outputs": [
    {
     "data": {
      "text/plain": [
       "'[{\"localTradedAt\":\"2022-07-06\",\"closePrice\":\"2,292.01\",\"compareToPreviousClosePrice\":\"-49.77\",\"compareToPreviousPrice\":{\"code\":\"5\",\"text\":\"하락\",\"name\":\"FALLING\"},\"fluctuationsRatio\":\"-2.13\",\"openPrice\"'"
      ]
     },
     "execution_count": 7,
     "metadata": {},
     "output_type": "execute_result"
    }
   ],
   "source": [
    "response.text[:200]"
   ]
  },
  {
   "cell_type": "code",
   "execution_count": null,
   "id": "6c3aadc9",
   "metadata": {},
   "outputs": [],
   "source": [
    "#3. JSON(str) >list,dict > DataFrame"
   ]
  },
  {
   "cell_type": "code",
   "execution_count": 10,
   "id": "087adf66",
   "metadata": {},
   "outputs": [
    {
     "data": {
      "text/plain": [
       "(list,\n",
       " [{'localTradedAt': '2022-07-06',\n",
       "   'closePrice': '2,292.01',\n",
       "   'compareToPreviousClosePrice': '-49.77',\n",
       "   'compareToPreviousPrice': {'code': '5', 'text': '하락', 'name': 'FALLING'},\n",
       "   'fluctuationsRatio': '-2.13',\n",
       "   'openPrice': '2,330.11',\n",
       "   'highPrice': '2,332.14',\n",
       "   'lowPrice': '2,290.33'}])"
      ]
     },
     "execution_count": 10,
     "metadata": {},
     "output_type": "execute_result"
    }
   ],
   "source": [
    "data = response.json()\n",
    "type(data), data[:1]"
   ]
  },
  {
   "cell_type": "code",
   "execution_count": 14,
   "id": "cb343e3a",
   "metadata": {},
   "outputs": [
    {
     "data": {
      "text/html": [
       "<div>\n",
       "<style scoped>\n",
       "    .dataframe tbody tr th:only-of-type {\n",
       "        vertical-align: middle;\n",
       "    }\n",
       "\n",
       "    .dataframe tbody tr th {\n",
       "        vertical-align: top;\n",
       "    }\n",
       "\n",
       "    .dataframe thead th {\n",
       "        text-align: right;\n",
       "    }\n",
       "</style>\n",
       "<table border=\"1\" class=\"dataframe\">\n",
       "  <thead>\n",
       "    <tr style=\"text-align: right;\">\n",
       "      <th></th>\n",
       "      <th>localTradedAt</th>\n",
       "      <th>closePrice</th>\n",
       "    </tr>\n",
       "  </thead>\n",
       "  <tbody>\n",
       "    <tr>\n",
       "      <th>8</th>\n",
       "      <td>2022-06-24</td>\n",
       "      <td>2,366.60</td>\n",
       "    </tr>\n",
       "    <tr>\n",
       "      <th>9</th>\n",
       "      <td>2022-06-23</td>\n",
       "      <td>2,314.32</td>\n",
       "    </tr>\n",
       "  </tbody>\n",
       "</table>\n",
       "</div>"
      ],
      "text/plain": [
       "  localTradedAt closePrice\n",
       "8    2022-06-24   2,366.60\n",
       "9    2022-06-23   2,314.32"
      ]
     },
     "execution_count": 14,
     "metadata": {},
     "output_type": "execute_result"
    }
   ],
   "source": [
    "df=pd.DataFrame(data)[[\"localTradedAt\",\"closePrice\"]]\n",
    "df.tail(2)"
   ]
  },
  {
   "cell_type": "code",
   "execution_count": null,
   "id": "6dbe3d8b",
   "metadata": {},
   "outputs": [],
   "source": [
    "# 4.함수 만들기\n",
    "#params : pagesize, page"
   ]
  },
  {
   "cell_type": "code",
   "execution_count": 17,
   "id": "1142a2f7",
   "metadata": {},
   "outputs": [],
   "source": [
    "def stock_price(pagesize, page):\n",
    "    url = f\"https://m.stock.naver.com/api/index/KOSPI/price?pageSize={pagesize}&page={page}\"\n",
    "    response = requests.get(url)\n",
    "    data = response.json()\n",
    "    return pd.DataFrame(data)[[\"localTradedAt\",\"closePrice\"]]"
   ]
  },
  {
   "cell_type": "code",
   "execution_count": 18,
   "id": "75ae1806",
   "metadata": {},
   "outputs": [
    {
     "data": {
      "text/html": [
       "<div>\n",
       "<style scoped>\n",
       "    .dataframe tbody tr th:only-of-type {\n",
       "        vertical-align: middle;\n",
       "    }\n",
       "\n",
       "    .dataframe tbody tr th {\n",
       "        vertical-align: top;\n",
       "    }\n",
       "\n",
       "    .dataframe thead th {\n",
       "        text-align: right;\n",
       "    }\n",
       "</style>\n",
       "<table border=\"1\" class=\"dataframe\">\n",
       "  <thead>\n",
       "    <tr style=\"text-align: right;\">\n",
       "      <th></th>\n",
       "      <th>localTradedAt</th>\n",
       "      <th>closePrice</th>\n",
       "    </tr>\n",
       "  </thead>\n",
       "  <tbody>\n",
       "    <tr>\n",
       "      <th>28</th>\n",
       "      <td>2022-05-11</td>\n",
       "      <td>2,592.27</td>\n",
       "    </tr>\n",
       "    <tr>\n",
       "      <th>29</th>\n",
       "      <td>2022-05-10</td>\n",
       "      <td>2,596.56</td>\n",
       "    </tr>\n",
       "  </tbody>\n",
       "</table>\n",
       "</div>"
      ],
      "text/plain": [
       "   localTradedAt closePrice\n",
       "28    2022-05-11   2,592.27\n",
       "29    2022-05-10   2,596.56"
      ]
     },
     "execution_count": 18,
     "metadata": {},
     "output_type": "execute_result"
    }
   ],
   "source": [
    "df=stock_price(30 ,2)\n",
    "df.tail(2)"
   ]
  },
  {
   "cell_type": "code",
   "execution_count": null,
   "id": "cc79c265",
   "metadata": {},
   "outputs": [],
   "source": [
    "#KOSDAQ 데이터 수집 코드 작성"
   ]
  },
  {
   "cell_type": "code",
   "execution_count": null,
   "id": "511278fb",
   "metadata": {},
   "outputs": [],
   "source": [
    "#1.웹서비스 분석 :URL"
   ]
  },
  {
   "cell_type": "code",
   "execution_count": null,
   "id": "049bd56c",
   "metadata": {},
   "outputs": [],
   "source": [
    "url = \"https://m.stock.naver.com/api/index/KOSDAQ/price?pageSize=10&page=2\""
   ]
  },
  {
   "cell_type": "code",
   "execution_count": null,
   "id": "25867dc7",
   "metadata": {},
   "outputs": [],
   "source": [
    "#2. request > response :JSON(str)"
   ]
  },
  {
   "cell_type": "code",
   "execution_count": 19,
   "id": "766b9284",
   "metadata": {},
   "outputs": [
    {
     "data": {
      "text/plain": [
       "<Response [200]>"
      ]
     },
     "execution_count": 19,
     "metadata": {},
     "output_type": "execute_result"
    }
   ],
   "source": [
    "response = requests.get(url)\n",
    "response"
   ]
  },
  {
   "cell_type": "code",
   "execution_count": null,
   "id": "717bc8a3",
   "metadata": {},
   "outputs": [],
   "source": [
    "#3. JSON(str) >list,dict > DataFrame"
   ]
  },
  {
   "cell_type": "code",
   "execution_count": 20,
   "id": "c4456391",
   "metadata": {},
   "outputs": [
    {
     "data": {
      "text/plain": [
       "(list,\n",
       " [{'localTradedAt': '2022-07-06',\n",
       "   'closePrice': '2,292.01',\n",
       "   'compareToPreviousClosePrice': '-49.77',\n",
       "   'compareToPreviousPrice': {'code': '5', 'text': '하락', 'name': 'FALLING'},\n",
       "   'fluctuationsRatio': '-2.13',\n",
       "   'openPrice': '2,330.11',\n",
       "   'highPrice': '2,332.14',\n",
       "   'lowPrice': '2,290.33'}])"
      ]
     },
     "execution_count": 20,
     "metadata": {},
     "output_type": "execute_result"
    }
   ],
   "source": [
    "data = response.json()\n",
    "type(data), data[:1]"
   ]
  },
  {
   "cell_type": "code",
   "execution_count": 21,
   "id": "33288bda",
   "metadata": {},
   "outputs": [
    {
     "data": {
      "text/html": [
       "<div>\n",
       "<style scoped>\n",
       "    .dataframe tbody tr th:only-of-type {\n",
       "        vertical-align: middle;\n",
       "    }\n",
       "\n",
       "    .dataframe tbody tr th {\n",
       "        vertical-align: top;\n",
       "    }\n",
       "\n",
       "    .dataframe thead th {\n",
       "        text-align: right;\n",
       "    }\n",
       "</style>\n",
       "<table border=\"1\" class=\"dataframe\">\n",
       "  <thead>\n",
       "    <tr style=\"text-align: right;\">\n",
       "      <th></th>\n",
       "      <th>localTradedAt</th>\n",
       "      <th>closePrice</th>\n",
       "    </tr>\n",
       "  </thead>\n",
       "  <tbody>\n",
       "    <tr>\n",
       "      <th>8</th>\n",
       "      <td>2022-06-24</td>\n",
       "      <td>2,366.60</td>\n",
       "    </tr>\n",
       "    <tr>\n",
       "      <th>9</th>\n",
       "      <td>2022-06-23</td>\n",
       "      <td>2,314.32</td>\n",
       "    </tr>\n",
       "  </tbody>\n",
       "</table>\n",
       "</div>"
      ],
      "text/plain": [
       "  localTradedAt closePrice\n",
       "8    2022-06-24   2,366.60\n",
       "9    2022-06-23   2,314.32"
      ]
     },
     "execution_count": 21,
     "metadata": {},
     "output_type": "execute_result"
    }
   ],
   "source": [
    "df=pd.DataFrame(data)[[\"localTradedAt\",\"closePrice\"]]\n",
    "df.tail(2)"
   ]
  },
  {
   "cell_type": "code",
   "execution_count": 29,
   "id": "91c1e352",
   "metadata": {},
   "outputs": [],
   "source": [
    "def stock_price(pagesize, page,code=\"KOSDAQ\"):\n",
    "    \"\"\"This function is crwaling stock price from naver stock web page\n",
    "    \n",
    "    params\n",
    "    ------\n",
    "    code : str : KOSPI or KOSDAQ\n",
    "    page : int : page number\n",
    "    page_size : int : one page size\n",
    "        \n",
    "    return\n",
    "    ------\n",
    "    type : DataFame of pandas\n",
    "    \"\"\"\n",
    "    url = f\"https://m.stock.naver.com/api/index/{code}/price?pageSize={pagesize}&page={page}\"\n",
    "    response = requests.get(url)\n",
    "    data = response.json()\n",
    "    return pd.DataFrame(data)[[\"localTradedAt\",\"closePrice\"]]"
   ]
  },
  {
   "cell_type": "code",
   "execution_count": 26,
   "id": "80117397",
   "metadata": {},
   "outputs": [
    {
     "data": {
      "text/html": [
       "<div>\n",
       "<style scoped>\n",
       "    .dataframe tbody tr th:only-of-type {\n",
       "        vertical-align: middle;\n",
       "    }\n",
       "\n",
       "    .dataframe tbody tr th {\n",
       "        vertical-align: top;\n",
       "    }\n",
       "\n",
       "    .dataframe thead th {\n",
       "        text-align: right;\n",
       "    }\n",
       "</style>\n",
       "<table border=\"1\" class=\"dataframe\">\n",
       "  <thead>\n",
       "    <tr style=\"text-align: right;\">\n",
       "      <th></th>\n",
       "      <th>localTradedAt</th>\n",
       "      <th>closePrice</th>\n",
       "    </tr>\n",
       "  </thead>\n",
       "  <tbody>\n",
       "    <tr>\n",
       "      <th>0</th>\n",
       "      <td>2022-08-03</td>\n",
       "      <td>812.47</td>\n",
       "    </tr>\n",
       "    <tr>\n",
       "      <th>1</th>\n",
       "      <td>2022-08-02</td>\n",
       "      <td>804.34</td>\n",
       "    </tr>\n",
       "    <tr>\n",
       "      <th>2</th>\n",
       "      <td>2022-08-01</td>\n",
       "      <td>807.61</td>\n",
       "    </tr>\n",
       "    <tr>\n",
       "      <th>3</th>\n",
       "      <td>2022-07-29</td>\n",
       "      <td>803.62</td>\n",
       "    </tr>\n",
       "    <tr>\n",
       "      <th>4</th>\n",
       "      <td>2022-07-28</td>\n",
       "      <td>798.32</td>\n",
       "    </tr>\n",
       "    <tr>\n",
       "      <th>5</th>\n",
       "      <td>2022-07-27</td>\n",
       "      <td>795.70</td>\n",
       "    </tr>\n",
       "    <tr>\n",
       "      <th>6</th>\n",
       "      <td>2022-07-26</td>\n",
       "      <td>789.93</td>\n",
       "    </tr>\n",
       "    <tr>\n",
       "      <th>7</th>\n",
       "      <td>2022-07-25</td>\n",
       "      <td>789.69</td>\n",
       "    </tr>\n",
       "    <tr>\n",
       "      <th>8</th>\n",
       "      <td>2022-07-22</td>\n",
       "      <td>789.75</td>\n",
       "    </tr>\n",
       "    <tr>\n",
       "      <th>9</th>\n",
       "      <td>2022-07-21</td>\n",
       "      <td>795.15</td>\n",
       "    </tr>\n",
       "  </tbody>\n",
       "</table>\n",
       "</div>"
      ],
      "text/plain": [
       "  localTradedAt closePrice\n",
       "0    2022-08-03     812.47\n",
       "1    2022-08-02     804.34\n",
       "2    2022-08-01     807.61\n",
       "3    2022-07-29     803.62\n",
       "4    2022-07-28     798.32\n",
       "5    2022-07-27     795.70\n",
       "6    2022-07-26     789.93\n",
       "7    2022-07-25     789.69\n",
       "8    2022-07-22     789.75\n",
       "9    2022-07-21     795.15"
      ]
     },
     "execution_count": 26,
     "metadata": {},
     "output_type": "execute_result"
    }
   ],
   "source": [
    "stock_price(10,1,\"KOSDAQ\")"
   ]
  },
  {
   "cell_type": "code",
   "execution_count": 27,
   "id": "590fccce",
   "metadata": {},
   "outputs": [],
   "source": [
    "kospi = stock_price(60,1,\"KOSPI\")\n",
    "kosdaq = stock_price(60,1,\"KOSDAQ\")"
   ]
  },
  {
   "cell_type": "code",
   "execution_count": 30,
   "id": "e214e75b",
   "metadata": {},
   "outputs": [
    {
     "name": "stdout",
     "output_type": "stream",
     "text": [
      "Help on function stock_price in module __main__:\n",
      "\n",
      "stock_price(pagesize, page, code='KOSDAQ')\n",
      "    This function is crwaling stock price from naver stock web page\n",
      "    \n",
      "    params\n",
      "    ------\n",
      "    code : str : KOSPI or KOSDAQ\n",
      "    page : int : page number\n",
      "    page_size : int : one page size\n",
      "        \n",
      "    return\n",
      "    ------\n",
      "    type : DataFame of pandas\n",
      "\n"
     ]
    }
   ],
   "source": [
    "# docstring : 함수를 사용하는 방법을 문자열로 작성\n",
    "#help(), shift+tab(설명)\n",
    "help(stock_price)"
   ]
  },
  {
   "cell_type": "markdown",
   "id": "11a47d59",
   "metadata": {},
   "source": [
    "### 원달러 환율 데이터 수집\n",
    "- 주식 > 시장지표 > 미국USD>일별시세(더보기)"
   ]
  },
  {
   "cell_type": "code",
   "execution_count": 38,
   "id": "2be83698",
   "metadata": {},
   "outputs": [],
   "source": [
    "def exchage_rate(code=\"FX_USDKRW\", page=1, page_size=60):\n",
    "    url = f'https://api.stock.naver.com/marketindex/exchange/{code}/prices?page={page}\\&pageSize={page_size}'\n",
    "    response = requests.get(url)\n",
    "    columns = [\"localTradedAt\", \"closePrice\"]\n",
    "    datas = response.json()\n",
    "    return pd.DataFrame(datas)[columns]"
   ]
  },
  {
   "cell_type": "code",
   "execution_count": 40,
   "id": "8c3bb761",
   "metadata": {},
   "outputs": [
    {
     "data": {
      "text/html": [
       "<div>\n",
       "<style scoped>\n",
       "    .dataframe tbody tr th:only-of-type {\n",
       "        vertical-align: middle;\n",
       "    }\n",
       "\n",
       "    .dataframe tbody tr th {\n",
       "        vertical-align: top;\n",
       "    }\n",
       "\n",
       "    .dataframe thead th {\n",
       "        text-align: right;\n",
       "    }\n",
       "</style>\n",
       "<table border=\"1\" class=\"dataframe\">\n",
       "  <thead>\n",
       "    <tr style=\"text-align: right;\">\n",
       "      <th></th>\n",
       "      <th>localTradedAt</th>\n",
       "      <th>closePrice</th>\n",
       "    </tr>\n",
       "  </thead>\n",
       "  <tbody>\n",
       "    <tr>\n",
       "      <th>58</th>\n",
       "      <td>2022-05-11</td>\n",
       "      <td>1,274.50</td>\n",
       "    </tr>\n",
       "    <tr>\n",
       "      <th>59</th>\n",
       "      <td>2022-05-10</td>\n",
       "      <td>1,276.00</td>\n",
       "    </tr>\n",
       "  </tbody>\n",
       "</table>\n",
       "</div>"
      ],
      "text/plain": [
       "   localTradedAt closePrice\n",
       "58    2022-05-11   1,274.50\n",
       "59    2022-05-10   1,276.00"
      ]
     },
     "execution_count": 40,
     "metadata": {},
     "output_type": "execute_result"
    }
   ],
   "source": [
    "usd = exchage_rate()\n",
    "usd.tail(2)"
   ]
  },
  {
   "cell_type": "code",
   "execution_count": null,
   "id": "b7551000",
   "metadata": {},
   "outputs": [],
   "source": [
    "#데이터 분석\n",
    "#상관관계 분석 : 두 데이터 집합 사이에 어떤 관계가 있는지 확인하는 분석방법\n",
    "#원달러 환율이 높으면 코스피,코스닥 주가 지수가 낮다. >음의 상관관계를 갖는다."
   ]
  },
  {
   "cell_type": "code",
   "execution_count": null,
   "id": "d00d2984",
   "metadata": {},
   "outputs": [],
   "source": [
    "#피어슨 상관계수 : df.corr()\n",
    "#1과 가까울수록 강한 양의 상관관계를 갖는다.\n",
    "#-1과 가까울수록 강한 음의 상관관계를 갖는다.\n",
    "#0과 가까울수록 관계가 없다"
   ]
  },
  {
   "cell_type": "code",
   "execution_count": 97,
   "id": "61c35dfd",
   "metadata": {
    "scrolled": true
   },
   "outputs": [
    {
     "data": {
      "text/html": [
       "<div>\n",
       "<style scoped>\n",
       "    .dataframe tbody tr th:only-of-type {\n",
       "        vertical-align: middle;\n",
       "    }\n",
       "\n",
       "    .dataframe tbody tr th {\n",
       "        vertical-align: top;\n",
       "    }\n",
       "\n",
       "    .dataframe thead th {\n",
       "        text-align: right;\n",
       "    }\n",
       "</style>\n",
       "<table border=\"1\" class=\"dataframe\">\n",
       "  <thead>\n",
       "    <tr style=\"text-align: right;\">\n",
       "      <th></th>\n",
       "      <th>localTradedAt</th>\n",
       "      <th>kospi</th>\n",
       "      <th>kosdaq</th>\n",
       "      <th>usd</th>\n",
       "    </tr>\n",
       "  </thead>\n",
       "  <tbody>\n",
       "    <tr>\n",
       "      <th>58</th>\n",
       "      <td>2022-05-11</td>\n",
       "      <td>2,592.27</td>\n",
       "      <td>866.34</td>\n",
       "      <td>1,274.50</td>\n",
       "    </tr>\n",
       "    <tr>\n",
       "      <th>59</th>\n",
       "      <td>2022-05-10</td>\n",
       "      <td>2,596.56</td>\n",
       "      <td>856.14</td>\n",
       "      <td>1,276.00</td>\n",
       "    </tr>\n",
       "  </tbody>\n",
       "</table>\n",
       "</div>"
      ],
      "text/plain": [
       "   localTradedAt     kospi  kosdaq       usd\n",
       "58    2022-05-11  2,592.27  866.34  1,274.50\n",
       "59    2022-05-10  2,596.56  856.14  1,276.00"
      ]
     },
     "execution_count": 97,
     "metadata": {},
     "output_type": "execute_result"
    }
   ],
   "source": [
    "#데이터 전처리\n",
    "df = kospi.copy()\n",
    "df[\"kosdaq\"] = kosdaq[\"closePrice\"]\n",
    "df[\"usd\"] = usd[\"closePrice\"]\n",
    "df=df.rename(columns = {\"closePrice\" : \"kospi\"})\n",
    "df.tail(2)"
   ]
  },
  {
   "cell_type": "code",
   "execution_count": 98,
   "id": "98707c50",
   "metadata": {},
   "outputs": [
    {
     "data": {
      "text/plain": [
       "localTradedAt    object\n",
       "kospi            object\n",
       "kosdaq           object\n",
       "usd              object\n",
       "dtype: object"
      ]
     },
     "execution_count": 98,
     "metadata": {},
     "output_type": "execute_result"
    }
   ],
   "source": [
    "df.dtypes"
   ]
  },
  {
   "cell_type": "code",
   "execution_count": 99,
   "id": "c3a009e3",
   "metadata": {},
   "outputs": [],
   "source": [
    "#컬럼의 데이터 타입 변경 : str > float\n",
    "#df[column].apply() : 모든 데이터를 함수에 대입한 결과를 출력\n",
    "df[\"kospi\"]=df[\"kospi\"].apply(lambda data: float(data.replace(\",\",\"\")))\n",
    "df[\"kosdaq\"]=df[\"kosdaq\"].apply(lambda data: float(data.replace(\",\",\"\")))\n",
    "df[\"usd\"]=df[\"usd\"].apply(lambda data: float(data.replace(\",\",\"\")))"
   ]
  },
  {
   "cell_type": "code",
   "execution_count": 100,
   "id": "d2f9950d",
   "metadata": {},
   "outputs": [
    {
     "data": {
      "text/plain": [
       "localTradedAt     object\n",
       "kospi            float64\n",
       "kosdaq           float64\n",
       "usd              float64\n",
       "dtype: object"
      ]
     },
     "execution_count": 100,
     "metadata": {},
     "output_type": "execute_result"
    }
   ],
   "source": [
    "df.dtypes"
   ]
  },
  {
   "cell_type": "code",
   "execution_count": 101,
   "id": "d244e3e5",
   "metadata": {},
   "outputs": [
    {
     "data": {
      "text/html": [
       "<div>\n",
       "<style scoped>\n",
       "    .dataframe tbody tr th:only-of-type {\n",
       "        vertical-align: middle;\n",
       "    }\n",
       "\n",
       "    .dataframe tbody tr th {\n",
       "        vertical-align: top;\n",
       "    }\n",
       "\n",
       "    .dataframe thead th {\n",
       "        text-align: right;\n",
       "    }\n",
       "</style>\n",
       "<table border=\"1\" class=\"dataframe\">\n",
       "  <thead>\n",
       "    <tr style=\"text-align: right;\">\n",
       "      <th></th>\n",
       "      <th>kospi</th>\n",
       "      <th>kosdaq</th>\n",
       "      <th>usd</th>\n",
       "    </tr>\n",
       "  </thead>\n",
       "  <tbody>\n",
       "    <tr>\n",
       "      <th>kospi</th>\n",
       "      <td>1.000000</td>\n",
       "      <td>0.984042</td>\n",
       "      <td>-0.878345</td>\n",
       "    </tr>\n",
       "    <tr>\n",
       "      <th>kosdaq</th>\n",
       "      <td>0.984042</td>\n",
       "      <td>1.000000</td>\n",
       "      <td>-0.821311</td>\n",
       "    </tr>\n",
       "    <tr>\n",
       "      <th>usd</th>\n",
       "      <td>-0.878345</td>\n",
       "      <td>-0.821311</td>\n",
       "      <td>1.000000</td>\n",
       "    </tr>\n",
       "  </tbody>\n",
       "</table>\n",
       "</div>"
      ],
      "text/plain": [
       "           kospi    kosdaq       usd\n",
       "kospi   1.000000  0.984042 -0.878345\n",
       "kosdaq  0.984042  1.000000 -0.821311\n",
       "usd    -0.878345 -0.821311  1.000000"
      ]
     },
     "execution_count": 101,
     "metadata": {},
     "output_type": "execute_result"
    }
   ],
   "source": [
    "df[['kospi','kosdaq','usd']].corr()"
   ]
  },
  {
   "cell_type": "code",
   "execution_count": null,
   "id": "f5cb23a0",
   "metadata": {},
   "outputs": [],
   "source": [
    "#copy(),apply,lambda"
   ]
  },
  {
   "cell_type": "code",
   "execution_count": null,
   "id": "1966aece",
   "metadata": {},
   "outputs": [],
   "source": [
    "#copy()"
   ]
  },
  {
   "cell_type": "code",
   "execution_count": 57,
   "id": "f21b1201",
   "metadata": {},
   "outputs": [
    {
     "name": "stdout",
     "output_type": "stream",
     "text": [
      "[1, 2, 3] [1, 2, 3] [1, 2, 3]\n",
      "[1, 4, 3] [1, 4, 3] [1, 2, 3]\n"
     ]
    }
   ],
   "source": [
    "data1 = [1,2,3]\n",
    "data2=data1          #얕은 복사 : 주소값 복사\n",
    "data3=data1.copy()   #깊은복사 : 값 복사\n",
    "print(data1,data2,data3)\n",
    "data1[1] =4\n",
    "print(data1,data2,data3)"
   ]
  },
  {
   "cell_type": "code",
   "execution_count": null,
   "id": "c88ad0e2",
   "metadata": {},
   "outputs": [],
   "source": [
    "#apply(func) : 모든 데이터를 func을 적용시킨 결과 출력"
   ]
  },
  {
   "cell_type": "code",
   "execution_count": 60,
   "id": "5cbc3114",
   "metadata": {},
   "outputs": [
    {
     "data": {
      "text/html": [
       "<div>\n",
       "<style scoped>\n",
       "    .dataframe tbody tr th:only-of-type {\n",
       "        vertical-align: middle;\n",
       "    }\n",
       "\n",
       "    .dataframe tbody tr th {\n",
       "        vertical-align: top;\n",
       "    }\n",
       "\n",
       "    .dataframe thead th {\n",
       "        text-align: right;\n",
       "    }\n",
       "</style>\n",
       "<table border=\"1\" class=\"dataframe\">\n",
       "  <thead>\n",
       "    <tr style=\"text-align: right;\">\n",
       "      <th></th>\n",
       "      <th>age</th>\n",
       "    </tr>\n",
       "  </thead>\n",
       "  <tbody>\n",
       "    <tr>\n",
       "      <th>0</th>\n",
       "      <td>23</td>\n",
       "    </tr>\n",
       "    <tr>\n",
       "      <th>1</th>\n",
       "      <td>36</td>\n",
       "    </tr>\n",
       "    <tr>\n",
       "      <th>2</th>\n",
       "      <td>27</td>\n",
       "    </tr>\n",
       "  </tbody>\n",
       "</table>\n",
       "</div>"
      ],
      "text/plain": [
       "   age\n",
       "0   23\n",
       "1   36\n",
       "2   27"
      ]
     },
     "execution_count": 60,
     "metadata": {},
     "output_type": "execute_result"
    }
   ],
   "source": [
    "df = pd.DataFrame([{\"age\":23}, {\"age\":36}, {\"age\":27}])\n",
    "df"
   ]
  },
  {
   "cell_type": "code",
   "execution_count": 83,
   "id": "7212570f",
   "metadata": {},
   "outputs": [],
   "source": [
    "#연령대 컬럼을 추가\n",
    "def change_ages(age):\n",
    "    return age//10 * 10"
   ]
  },
  {
   "cell_type": "code",
   "execution_count": 84,
   "id": "f4451ac3",
   "metadata": {},
   "outputs": [
    {
     "data": {
      "text/plain": [
       "0    23\n",
       "1    36\n",
       "2    27\n",
       "Name: age, dtype: int64"
      ]
     },
     "execution_count": 84,
     "metadata": {},
     "output_type": "execute_result"
    }
   ],
   "source": [
    "df[\"age\"]"
   ]
  },
  {
   "cell_type": "code",
   "execution_count": 85,
   "id": "73d94ff6",
   "metadata": {},
   "outputs": [
    {
     "data": {
      "text/html": [
       "<div>\n",
       "<style scoped>\n",
       "    .dataframe tbody tr th:only-of-type {\n",
       "        vertical-align: middle;\n",
       "    }\n",
       "\n",
       "    .dataframe tbody tr th {\n",
       "        vertical-align: top;\n",
       "    }\n",
       "\n",
       "    .dataframe thead th {\n",
       "        text-align: right;\n",
       "    }\n",
       "</style>\n",
       "<table border=\"1\" class=\"dataframe\">\n",
       "  <thead>\n",
       "    <tr style=\"text-align: right;\">\n",
       "      <th></th>\n",
       "      <th>age</th>\n",
       "      <th>ages</th>\n",
       "    </tr>\n",
       "  </thead>\n",
       "  <tbody>\n",
       "    <tr>\n",
       "      <th>0</th>\n",
       "      <td>23</td>\n",
       "      <td>20</td>\n",
       "    </tr>\n",
       "    <tr>\n",
       "      <th>1</th>\n",
       "      <td>36</td>\n",
       "      <td>30</td>\n",
       "    </tr>\n",
       "    <tr>\n",
       "      <th>2</th>\n",
       "      <td>27</td>\n",
       "      <td>20</td>\n",
       "    </tr>\n",
       "  </tbody>\n",
       "</table>\n",
       "</div>"
      ],
      "text/plain": [
       "   age  ages\n",
       "0   23    20\n",
       "1   36    30\n",
       "2   27    20"
      ]
     },
     "execution_count": 85,
     "metadata": {},
     "output_type": "execute_result"
    }
   ],
   "source": [
    "df[\"ages\"]=df[\"age\"].apply(change_ages)\n",
    "df"
   ]
  },
  {
   "cell_type": "code",
   "execution_count": null,
   "id": "a5781bd2",
   "metadata": {},
   "outputs": [],
   "source": [
    "#lambda :일회성 함수\n",
    "#사용이유 : 간단한 함수를 메모리를 절약하여 사용"
   ]
  },
  {
   "cell_type": "code",
   "execution_count": 90,
   "id": "c7fa9205",
   "metadata": {},
   "outputs": [
    {
     "data": {
      "text/plain": [
       "(3, -1)"
      ]
     },
     "execution_count": 90,
     "metadata": {},
     "output_type": "execute_result"
    }
   ],
   "source": [
    "def plus(n1,n2):\n",
    "    return n1 + n2\n",
    "\n",
    "def minus(n1,n2):\n",
    "    return n1 - n2\n",
    "\n",
    "def calc(func,n1,n2):\n",
    "    return func(n1, n2)\n",
    "\n",
    "calc(plus,1,2), calc(minus,1,2)"
   ]
  },
  {
   "cell_type": "code",
   "execution_count": 89,
   "id": "8e25f623",
   "metadata": {},
   "outputs": [
    {
     "data": {
      "text/plain": [
       "(5, 5)"
      ]
     },
     "execution_count": 89,
     "metadata": {},
     "output_type": "execute_result"
    }
   ],
   "source": [
    "plus_lambda = lambda n1,n2 : n1 +n2\n",
    "plus(2,3), plus_lambda(2,3)"
   ]
  },
  {
   "cell_type": "code",
   "execution_count": null,
   "id": "e1a67786",
   "metadata": {},
   "outputs": [],
   "source": [
    "def calc(func,n1,n2):\n",
    "    return func(n1, n2)\n"
   ]
  },
  {
   "cell_type": "code",
   "execution_count": 92,
   "id": "33b40aa2",
   "metadata": {},
   "outputs": [
    {
     "data": {
      "text/plain": [
       "(3, -1)"
      ]
     },
     "execution_count": 92,
     "metadata": {},
     "output_type": "execute_result"
    }
   ],
   "source": [
    "calc(lambda n1,n2 : n1 +n2,1,2), calc(lambda n1,n2 : n1 -n2,1,2)"
   ]
  },
  {
   "cell_type": "code",
   "execution_count": null,
   "id": "4ce57020",
   "metadata": {},
   "outputs": [],
   "source": []
  },
  {
   "cell_type": "code",
   "execution_count": null,
   "id": "5d98c65a",
   "metadata": {},
   "outputs": [],
   "source": []
  },
  {
   "cell_type": "code",
   "execution_count": null,
   "id": "04de3722",
   "metadata": {},
   "outputs": [],
   "source": []
  },
  {
   "cell_type": "code",
   "execution_count": null,
   "id": "92130857",
   "metadata": {},
   "outputs": [],
   "source": []
  }
 ],
 "metadata": {
  "kernelspec": {
   "display_name": "Python 3",
   "language": "python",
   "name": "python3"
  },
  "language_info": {
   "codemirror_mode": {
    "name": "ipython",
    "version": 3
   },
   "file_extension": ".py",
   "mimetype": "text/x-python",
   "name": "python",
   "nbconvert_exporter": "python",
   "pygments_lexer": "ipython3",
   "version": "3.8.8"
  }
 },
 "nbformat": 4,
 "nbformat_minor": 5
}
